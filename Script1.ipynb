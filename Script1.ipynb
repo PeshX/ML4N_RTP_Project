{
 "cells": [
  {
   "cell_type": "code",
   "execution_count": 1,
   "metadata": {},
   "outputs": [],
   "source": [
    "# Script for Section 1 – Data exploration and pre-processing \n",
    "import numpy as np\n",
    "import pandas as pd\n",
    "import matplotlib as plot\n",
    "\n",
    "df=pd.read_csv('RTP_traffic_dataset.csv')"
   ]
  },
  {
   "cell_type": "code",
   "execution_count": 2,
   "metadata": {},
   "outputs": [
    {
     "data": {
      "text/html": [
       "<div>\n",
       "<style scoped>\n",
       "    .dataframe tbody tr th:only-of-type {\n",
       "        vertical-align: middle;\n",
       "    }\n",
       "\n",
       "    .dataframe tbody tr th {\n",
       "        vertical-align: top;\n",
       "    }\n",
       "\n",
       "    .dataframe thead th {\n",
       "        text-align: right;\n",
       "    }\n",
       "</style>\n",
       "<table border=\"1\" class=\"dataframe\">\n",
       "  <thead>\n",
       "    <tr style=\"text-align: right;\">\n",
       "      <th></th>\n",
       "      <th>timestamp</th>\n",
       "      <th>interarrival_std</th>\n",
       "      <th>interarrival_mean</th>\n",
       "      <th>interarrival_min</th>\n",
       "      <th>interarrival_max</th>\n",
       "      <th>interarrival_count</th>\n",
       "      <th>interarrival_kurtosis</th>\n",
       "      <th>interarrival_skew</th>\n",
       "      <th>interarrival_moment3</th>\n",
       "      <th>interarrival_moment4</th>\n",
       "      <th>...</th>\n",
       "      <th>inter_time_sequence_max_value_count_percent</th>\n",
       "      <th>num_packet_loss</th>\n",
       "      <th>software</th>\n",
       "      <th>ssrc</th>\n",
       "      <th>ip_src</th>\n",
       "      <th>ip_dst</th>\n",
       "      <th>prt_src</th>\n",
       "      <th>prt_dst</th>\n",
       "      <th>p_type</th>\n",
       "      <th>n_call</th>\n",
       "    </tr>\n",
       "  </thead>\n",
       "  <tbody>\n",
       "    <tr>\n",
       "      <th>0</th>\n",
       "      <td>2020-12-14 13:34:39.500</td>\n",
       "      <td>0.011279</td>\n",
       "      <td>0.011439</td>\n",
       "      <td>0.002316</td>\n",
       "      <td>0.02405</td>\n",
       "      <td>3</td>\n",
       "      <td>-1.5</td>\n",
       "      <td>0.513926</td>\n",
       "      <td>4.014318e-07</td>\n",
       "      <td>1.079044e-08</td>\n",
       "      <td>...</td>\n",
       "      <td>0.333333</td>\n",
       "      <td>0</td>\n",
       "      <td>webrtc</td>\n",
       "      <td>0x401fff15</td>\n",
       "      <td>132.145.230.5</td>\n",
       "      <td>192.168.1.126</td>\n",
       "      <td>443</td>\n",
       "      <td>34102</td>\n",
       "      <td>114</td>\n",
       "      <td>1</td>\n",
       "    </tr>\n",
       "  </tbody>\n",
       "</table>\n",
       "<p>1 rows × 83 columns</p>\n",
       "</div>"
      ],
      "text/plain": [
       "                 timestamp  interarrival_std  interarrival_mean  \\\n",
       "0  2020-12-14 13:34:39.500          0.011279           0.011439   \n",
       "\n",
       "   interarrival_min  interarrival_max  interarrival_count  \\\n",
       "0          0.002316           0.02405                   3   \n",
       "\n",
       "   interarrival_kurtosis  interarrival_skew  interarrival_moment3  \\\n",
       "0                   -1.5           0.513926          4.014318e-07   \n",
       "\n",
       "   interarrival_moment4  ...  inter_time_sequence_max_value_count_percent  \\\n",
       "0          1.079044e-08  ...                                     0.333333   \n",
       "\n",
       "   num_packet_loss  software        ssrc         ip_src         ip_dst  \\\n",
       "0                0    webrtc  0x401fff15  132.145.230.5  192.168.1.126   \n",
       "\n",
       "   prt_src  prt_dst  p_type  n_call  \n",
       "0      443    34102     114       1  \n",
       "\n",
       "[1 rows x 83 columns]"
      ]
     },
     "execution_count": 2,
     "metadata": {},
     "output_type": "execute_result"
    }
   ],
   "source": [
    "df.head(1)"
   ]
  },
  {
   "cell_type": "code",
   "execution_count": 3,
   "metadata": {},
   "outputs": [
    {
     "name": "stdout",
     "output_type": "stream",
     "text": [
      "The starting time is: 2020-04-17 07:59:45.500\n",
      " the finishing time is: 2021-01-18 15:03:18.000\n"
     ]
    }
   ],
   "source": [
    "t_max = df['timestamp'].max()\n",
    "t_min = df['timestamp'].min()\n",
    "print('The starting time is:',t_min)\n",
    "print(' the finishing time is:',t_max)"
   ]
  },
  {
   "cell_type": "code",
   "execution_count": 14,
   "metadata": {},
   "outputs": [],
   "source": [
    "# We check both the code of a call and software type to double check that there are no calls with same code and different type of software\n",
    "#Calls=df['n_call']\n",
    "#SoftwareType=df['software']\n",
    "#Counter=0\n",
    "#Breakpoints=[]\n",
    "#for i in range(len(Calls)-1):\n",
    "    #if Calls.loc[i]!=Calls.loc[i+1] or SoftwareType.loc[i]!=SoftwareType.loc[i+1] :\n",
    "        #Counter=Counter+1\n",
    "        #Breakpoints.append(i)\n"
   ]
  },
  {
   "cell_type": "code",
   "execution_count": 7,
   "metadata": {},
   "outputs": [
    {
     "name": "stdout",
     "output_type": "stream",
     "text": [
      "0 days 00:41:22.632352941\n"
     ]
    }
   ],
   "source": [
    "df['timestamp']=pd.to_datetime(df['timestamp'])\n",
    "Durations=[]\n",
    "P1=df['n_call'].value_counts().sort_index()\n",
    "for i in P1.index:\n",
    "    filt=df['n_call']==i\n",
    "    P=df[filt]\n",
    "    P=P.set_index(np.array(range(len(P['timestamp'])))) \n",
    "    DurationCalls=P.loc[len(P)-1]['timestamp']-P.loc[0]['timestamp']\n",
    "    Durations.append(DurationCalls)\n",
    "#print(Durations)\n",
    "len(Durations)\n",
    "print(np.array(Durations).mean())\n"
   ]
  },
  {
   "cell_type": "code",
   "execution_count": 13,
   "metadata": {},
   "outputs": [
    {
     "name": "stdout",
     "output_type": "stream",
     "text": [
      "The number of calls is: 68\n"
     ]
    }
   ],
   "source": [
    "print('The number of calls is:',len(P1))"
   ]
  },
  {
   "cell_type": "code",
   "execution_count": 15,
   "metadata": {},
   "outputs": [],
   "source": [
    "# Delete equal stat attributes"
   ]
  }
 ],
 "metadata": {
  "kernelspec": {
   "display_name": "Python 3",
   "language": "python",
   "name": "python3"
  },
  "language_info": {
   "codemirror_mode": {
    "name": "ipython",
    "version": 3
   },
   "file_extension": ".py",
   "mimetype": "text/x-python",
   "name": "python",
   "nbconvert_exporter": "python",
   "pygments_lexer": "ipython3",
   "version": "3.12.0"
  }
 },
 "nbformat": 4,
 "nbformat_minor": 2
}
