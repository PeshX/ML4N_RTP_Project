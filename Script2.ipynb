{
 "cells": [
  {
   "cell_type": "code",
   "execution_count": 121,
   "metadata": {},
   "outputs": [],
   "source": [
    "%matplotlib inline\n",
    "\n",
    "import pandas as pd\n",
    "import seaborn as sns\n",
    "import numpy as np\n",
    "import matplotlib.pyplot as plt\n",
    "from sklearn.model_selection import train_test_split\n",
    "from sklearn.preprocessing import StandardScaler\n",
    "from sklearn.decomposition import PCA\n",
    "from sklearn.metrics import classification_report, confusion_matrix, accuracy_score\n",
    "from sklearn.neighbors import KNeighborsClassifier\n",
    "from sklearn.linear_model import LogisticRegression\n",
    "from sklearn.ensemble import RandomForestClassifier\n",
    "from sklearn.naive_bayes import GaussianNB\n",
    "from sklearn.linear_model import LinearRegression\n",
    "from sklearn.metrics import mean_squared_error, mean_absolute_error\n",
    "from sklearn.tree import DecisionTreeRegressor"
   ]
  },
  {
   "cell_type": "code",
   "execution_count": 97,
   "metadata": {},
   "outputs": [],
   "source": [
    "import pickle\n",
    "\n",
    "with open('my_dataset.pickle', 'rb') as data:\n",
    "    df = pickle.load(data)"
   ]
  },
  {
   "cell_type": "code",
   "execution_count": 98,
   "metadata": {},
   "outputs": [],
   "source": [
    "with open('my_stat_feat.pickle', 'rb') as data_stat:\n",
    "    features = pickle.load(data_stat)"
   ]
  },
  {
   "cell_type": "markdown",
   "metadata": {},
   "source": [
    "### <ins>Point 1.</ins>"
   ]
  },
  {
   "cell_type": "markdown",
   "metadata": {},
   "source": [
    "### <ins>Should we take only stat feats or all of them?.</ins>"
   ]
  },
  {
   "cell_type": "code",
   "execution_count": 99,
   "metadata": {},
   "outputs": [],
   "source": [
    "X, X_test, y, y_test = train_test_split(\n",
    "    df[features].values, # X  come numpy array\n",
    "    df['label'].values, # y come numpy array\n",
    "    stratify = df['label'], # stratify the dataset based on class labels\n",
    "    train_size = 0.7, # percentage of training set\n",
    "    random_state = 15 #for random chose of samples\n",
    ")"
   ]
  },
  {
   "cell_type": "code",
   "execution_count": 100,
   "metadata": {},
   "outputs": [],
   "source": [
    "X_train, X_validation, y_train, y_validation = train_test_split(\n",
    "    df[features].values, # X  come numpy array\n",
    "    df['label'].values, # y come numpy array\n",
    "    stratify = df['label'], # stratify the dataset based on class labels\n",
    "    train_size = 0.7143, # percentage of training set\n",
    "    random_state = 15 #for random chose of samples\n",
    ")"
   ]
  },
  {
   "cell_type": "code",
   "execution_count": 101,
   "metadata": {},
   "outputs": [],
   "source": [
    "scaler = StandardScaler()\n",
    "scaler.fit(X_train)\n",
    "\n",
    "X_train = scaler.transform(X_train)\n",
    "X_validation = scaler.transform(X_validation)\n",
    "X_test = scaler.transform(X_test)"
   ]
  },
  {
   "cell_type": "markdown",
   "metadata": {},
   "source": [
    "### <ins>Point 2.</ins>"
   ]
  },
  {
   "cell_type": "code",
   "execution_count": 102,
   "metadata": {},
   "outputs": [],
   "source": [
    "import random\n",
    "\n",
    "X_train_df=pd.DataFrame(X_train)\n",
    "X_validation_df=pd.DataFrame(X_validation)\n",
    "X_test_df=pd.DataFrame(X_test)\n",
    "y_train_df=pd.DataFrame(y_train)\n",
    "y_test_df=pd.DataFrame(y_test)\n",
    "y_validation_df=pd.DataFrame(y_validation)\n",
    "\n",
    "y_lossy = y_train_df.groupby(0).get_group(1).index\n",
    "y_lossless = y_train_df.groupby(0).get_group(0).index\n",
    "\n",
    "num_of_el_to_pick = len(y_lossy)\n",
    "\n",
    "index_lossy = random.sample(sorted(set(y_lossy)),num_of_el_to_pick)\n",
    "index_lossless = random.sample(sorted(set(y_lossless)),num_of_el_to_pick)\n",
    "\n",
    "df_lossless = X_train_df.loc[index_lossless]\n",
    "df_lossy = X_train_df.loc[index_lossy]\n",
    "\n",
    "X_balanced = pd.concat([df_lossless, df_lossy])\n",
    "Y_balanced = pd.concat([y_train_df.loc[index_lossless], y_train_df.loc[index_lossy]])\n"
   ]
  },
  {
   "cell_type": "code",
   "execution_count": 103,
   "metadata": {},
   "outputs": [],
   "source": [
    "X_balanced = X_balanced.sort_index()\n",
    "Y_balanced = Y_balanced.sort_index()"
   ]
  },
  {
   "cell_type": "code",
   "execution_count": 104,
   "metadata": {},
   "outputs": [],
   "source": [
    "X_balanced_np = X_balanced.to_numpy()\n",
    "Y_balanced_np = Y_balanced.to_numpy()"
   ]
  },
  {
   "cell_type": "markdown",
   "metadata": {},
   "source": [
    "### <ins>Point 3.</ins>"
   ]
  },
  {
   "cell_type": "code",
   "execution_count": 51,
   "metadata": {},
   "outputs": [
    {
     "name": "stderr",
     "output_type": "stream",
     "text": [
      "c:\\Users\\utente\\AppData\\Local\\Programs\\Python\\Python312\\Lib\\site-packages\\sklearn\\neighbors\\_classification.py:233: DataConversionWarning: A column-vector y was passed when a 1d array was expected. Please change the shape of y to (n_samples,), for example using ravel().\n",
      "  return self._fit(X, y)\n"
     ]
    }
   ],
   "source": [
    "m1 = KNeighborsClassifier()\n",
    "m1.fit(X_balanced_np, Y_balanced_np)\n",
    "y_train_pred1 = m1.predict(X_balanced_np)\n",
    "y_validation_pred1 = m1.predict(X_validation)"
   ]
  },
  {
   "cell_type": "code",
   "execution_count": 52,
   "metadata": {},
   "outputs": [
    {
     "name": "stdout",
     "output_type": "stream",
     "text": [
      "              precision    recall  f1-score   support\n",
      "\n",
      "           0       0.94      0.95      0.95     23200\n",
      "           1       0.95      0.94      0.94     23200\n",
      "\n",
      "    accuracy                           0.94     46400\n",
      "   macro avg       0.94      0.94      0.94     46400\n",
      "weighted avg       0.94      0.94      0.94     46400\n",
      "\n"
     ]
    }
   ],
   "source": [
    "print(classification_report(Y_balanced_np, y_train_pred1))"
   ]
  },
  {
   "cell_type": "code",
   "execution_count": 53,
   "metadata": {},
   "outputs": [
    {
     "name": "stdout",
     "output_type": "stream",
     "text": [
      "              precision    recall  f1-score   support\n",
      "\n",
      "           0       1.00      0.94      0.97    601527\n",
      "           1       0.18      0.91      0.30      9279\n",
      "\n",
      "    accuracy                           0.93    610806\n",
      "   macro avg       0.59      0.92      0.63    610806\n",
      "weighted avg       0.99      0.93      0.96    610806\n",
      "\n"
     ]
    }
   ],
   "source": [
    "print(classification_report(y_validation, y_validation_pred1))"
   ]
  },
  {
   "cell_type": "code",
   "execution_count": 56,
   "metadata": {},
   "outputs": [],
   "source": [
    "m2 = DecisionTreeRegressor()\n",
    "m2.fit(X_balanced_np, Y_balanced_np)\n",
    "y_train_pred2 = m2.predict(X_balanced_np)\n",
    "y_validation_pred2 = m2.predict(X_validation)"
   ]
  },
  {
   "cell_type": "code",
   "execution_count": 58,
   "metadata": {},
   "outputs": [
    {
     "name": "stdout",
     "output_type": "stream",
     "text": [
      "              precision    recall  f1-score   support\n",
      "\n",
      "           0       1.00      1.00      1.00     23200\n",
      "           1       1.00      1.00      1.00     23200\n",
      "\n",
      "    accuracy                           1.00     46400\n",
      "   macro avg       1.00      1.00      1.00     46400\n",
      "weighted avg       1.00      1.00      1.00     46400\n",
      "\n"
     ]
    }
   ],
   "source": [
    "print(classification_report(Y_balanced_np, y_train_pred2))"
   ]
  },
  {
   "cell_type": "code",
   "execution_count": 57,
   "metadata": {},
   "outputs": [
    {
     "name": "stdout",
     "output_type": "stream",
     "text": [
      "              precision    recall  f1-score   support\n",
      "\n",
      "           0       1.00      0.93      0.96    601527\n",
      "           1       0.17      0.93      0.28      9279\n",
      "\n",
      "    accuracy                           0.93    610806\n",
      "   macro avg       0.58      0.93      0.62    610806\n",
      "weighted avg       0.99      0.93      0.95    610806\n",
      "\n"
     ]
    }
   ],
   "source": [
    "print(classification_report(y_validation, y_validation_pred2))"
   ]
  },
  {
   "cell_type": "code",
   "execution_count": 71,
   "metadata": {},
   "outputs": [
    {
     "name": "stderr",
     "output_type": "stream",
     "text": [
      "c:\\Users\\utente\\AppData\\Local\\Programs\\Python\\Python312\\Lib\\site-packages\\sklearn\\base.py:1152: DataConversionWarning: A column-vector y was passed when a 1d array was expected. Please change the shape of y to (n_samples,), for example using ravel().\n",
      "  return fit_method(estimator, *args, **kwargs)\n"
     ]
    }
   ],
   "source": [
    "m3 = RandomForestClassifier()\n",
    "m3.fit(X_balanced_np, Y_balanced_np)\n",
    "y_train_pred3 = m3.predict(X_balanced_np)\n",
    "y_validation_pred3 = m3.predict(X_validation)"
   ]
  },
  {
   "cell_type": "code",
   "execution_count": 72,
   "metadata": {},
   "outputs": [
    {
     "name": "stdout",
     "output_type": "stream",
     "text": [
      "              precision    recall  f1-score   support\n",
      "\n",
      "           0       1.00      1.00      1.00     23200\n",
      "           1       1.00      1.00      1.00     23200\n",
      "\n",
      "    accuracy                           1.00     46400\n",
      "   macro avg       1.00      1.00      1.00     46400\n",
      "weighted avg       1.00      1.00      1.00     46400\n",
      "\n"
     ]
    }
   ],
   "source": [
    "print(classification_report(Y_balanced_np, y_train_pred3))"
   ]
  },
  {
   "cell_type": "code",
   "execution_count": 73,
   "metadata": {},
   "outputs": [
    {
     "name": "stdout",
     "output_type": "stream",
     "text": [
      "              precision    recall  f1-score   support\n",
      "\n",
      "           0       1.00      0.95      0.97    601527\n",
      "           1       0.23      0.95      0.37      9279\n",
      "\n",
      "    accuracy                           0.95    610806\n",
      "   macro avg       0.61      0.95      0.67    610806\n",
      "weighted avg       0.99      0.95      0.97    610806\n",
      "\n"
     ]
    }
   ],
   "source": [
    "print(classification_report(y_validation, y_validation_pred3))"
   ]
  },
  {
   "cell_type": "code",
   "execution_count": 74,
   "metadata": {},
   "outputs": [
    {
     "data": {
      "image/png": "[encoded data removed]",
      "text/plain": [
       "<Figure size 800x800 with 2 Axes>"
      ]
     },
     "metadata": {},
     "output_type": "display_data"
    }
   ],
   "source": [
    "confusion_test = confusion_matrix(y_validation, y_validation_pred3)\n",
    "\n",
    "# visualize the confusion matrix\n",
    "plt.figure(figsize=(8,8))\n",
    "sns.heatmap(confusion_test, cmap='Blues', annot=True, cbar_kws={'label':'Occurrences'})\n",
    "plt.xlabel('Prediction')\n",
    "plt.ylabel('True')\n",
    "plt.title('Confusion matrix')\n",
    "plt.show()"
   ]
  },
  {
   "cell_type": "code",
   "execution_count": null,
   "metadata": {},
   "outputs": [],
   "source": [
    "gnb = GaussianNB()\n",
    "gnb.fit(X_balanced, Y_balanced)\n",
    "y_test_pred = gnb.predict(X_test)\n",
    "\n",
    "print(classification_report(y_test, y_test_pred))"
   ]
  },
  {
   "cell_type": "markdown",
   "metadata": {},
   "source": [
    "### <ins>We choose RandomForest because has better performances on 1 detection accuracy.</ins>"
   ]
  },
  {
   "cell_type": "markdown",
   "metadata": {},
   "source": [
    "### <ins>Point 4.</ins>"
   ]
  },
  {
   "cell_type": "code",
   "execution_count": 115,
   "metadata": {},
   "outputs": [],
   "source": [
    "\n",
    "y_lossy = y_train_df.groupby(0).get_group(1).index\n",
    "y_lossless = y_train_df.groupby(0).get_group(0).index\n",
    "\n",
    "num_of_lossless_to_pick1 = len(y_lossy) + int(np.ceil(5*len(y_lossless)/100))\n",
    "num_of_lossless_to_pick2 = len(y_lossy) + int(np.ceil(7*len(y_lossless)/100))\n",
    "num_of_lossless_to_pick3 = len(y_lossy) + int(np.ceil(9*len(y_lossless)/100))\n",
    "\n",
    "index_lossless1 = random.sample(sorted(set(y_lossless)),num_of_lossless_to_pick1)\n",
    "index_lossless2 = random.sample(sorted(set(y_lossless)),num_of_lossless_to_pick2)\n",
    "index_lossless3 = random.sample(sorted(set(y_lossless)),num_of_lossless_to_pick3)\n",
    "\n",
    "df_lossless1 = X_train_df.loc[index_lossless1]\n",
    "df_lossless2 = X_train_df.loc[index_lossless2]\n",
    "df_lossless3 = X_train_df.loc[index_lossless3]\n",
    "\n",
    "\n",
    "X_balanced1 = pd.concat([df_lossless1, df_lossy])\n",
    "Y_balanced1 = pd.concat([y_train_df.loc[index_lossless1], y_train_df.loc[index_lossy]])\n",
    "\n",
    "X_balanced2 = pd.concat([df_lossless2, df_lossy])\n",
    "Y_balanced2 = pd.concat([y_train_df.loc[index_lossless2], y_train_df.loc[index_lossy]])\n",
    "\n",
    "X_balanced3 = pd.concat([df_lossless3, df_lossy])\n",
    "Y_balanced3 = pd.concat([y_train_df.loc[index_lossless3], y_train_df.loc[index_lossy]])\n"
   ]
  },
  {
   "cell_type": "code",
   "execution_count": 108,
   "metadata": {},
   "outputs": [
    {
     "data": {
      "text/plain": [
       "225589.0"
      ]
     },
     "execution_count": 108,
     "metadata": {},
     "output_type": "execute_result"
    }
   ],
   "source": [
    "np.ceil(15*len(y_lossless)/100)"
   ]
  },
  {
   "cell_type": "code",
   "execution_count": 116,
   "metadata": {},
   "outputs": [],
   "source": [
    "X_balanced1_np = X_balanced1.to_numpy()\n",
    "Y_balanced1_np = Y_balanced1.to_numpy()\n",
    "\n",
    "X_balanced2_np = X_balanced2.to_numpy()\n",
    "Y_balanced2_np = Y_balanced2.to_numpy()\n",
    "\n",
    "X_balanced3_np = X_balanced3.to_numpy()\n",
    "Y_balanced3_np = Y_balanced3.to_numpy()"
   ]
  },
  {
   "cell_type": "code",
   "execution_count": 111,
   "metadata": {},
   "outputs": [
    {
     "name": "stderr",
     "output_type": "stream",
     "text": [
      "c:\\Users\\utente\\AppData\\Local\\Programs\\Python\\Python312\\Lib\\site-packages\\sklearn\\base.py:1152: DataConversionWarning: A column-vector y was passed when a 1d array was expected. Please change the shape of y to (n_samples,), for example using ravel().\n",
      "  return fit_method(estimator, *args, **kwargs)\n"
     ]
    }
   ],
   "source": [
    "T1 = RandomForestClassifier()\n",
    "T1.fit(X_balanced1_np, Y_balanced1_np)\n",
    "y_train_pred_T1 = T1.predict(X_balanced1_np)\n",
    "y_validation_pred_T1 = T1.predict(X_validation)"
   ]
  },
  {
   "cell_type": "code",
   "execution_count": 112,
   "metadata": {},
   "outputs": [
    {
     "name": "stdout",
     "output_type": "stream",
     "text": [
      "              precision    recall  f1-score   support\n",
      "\n",
      "           0       1.00      1.00      1.00     98397\n",
      "           1       1.00      1.00      1.00     23200\n",
      "\n",
      "    accuracy                           1.00    121597\n",
      "   macro avg       1.00      1.00      1.00    121597\n",
      "weighted avg       1.00      1.00      1.00    121597\n",
      "\n",
      "              precision    recall  f1-score   support\n",
      "\n",
      "           0       1.00      0.99      0.99    601527\n",
      "           1       0.55      0.89      0.68      9279\n",
      "\n",
      "    accuracy                           0.99    610806\n",
      "   macro avg       0.77      0.94      0.84    610806\n",
      "weighted avg       0.99      0.99      0.99    610806\n",
      "\n"
     ]
    }
   ],
   "source": [
    "print(classification_report(Y_balanced1_np, y_train_pred_T1))\n",
    "print(classification_report(y_validation, y_validation_pred_T1))"
   ]
  },
  {
   "cell_type": "code",
   "execution_count": 117,
   "metadata": {},
   "outputs": [
    {
     "name": "stderr",
     "output_type": "stream",
     "text": [
      "c:\\Users\\utente\\AppData\\Local\\Programs\\Python\\Python312\\Lib\\site-packages\\sklearn\\base.py:1152: DataConversionWarning: A column-vector y was passed when a 1d array was expected. Please change the shape of y to (n_samples,), for example using ravel().\n",
      "  return fit_method(estimator, *args, **kwargs)\n"
     ]
    }
   ],
   "source": [
    "T2 = RandomForestClassifier()\n",
    "T2.fit(X_balanced2_np, Y_balanced2_np)\n",
    "y_train_pred_T2 = T2.predict(X_balanced2_np)\n",
    "y_validation_pred_T2 = T2.predict(X_validation)"
   ]
  },
  {
   "cell_type": "code",
   "execution_count": 118,
   "metadata": {},
   "outputs": [
    {
     "name": "stdout",
     "output_type": "stream",
     "text": [
      "              precision    recall  f1-score   support\n",
      "\n",
      "           0       1.00      1.00      1.00    128475\n",
      "           1       1.00      1.00      1.00     23200\n",
      "\n",
      "    accuracy                           1.00    151675\n",
      "   macro avg       1.00      1.00      1.00    151675\n",
      "weighted avg       1.00      1.00      1.00    151675\n",
      "\n",
      "              precision    recall  f1-score   support\n",
      "\n",
      "           0       1.00      0.99      0.99    601527\n",
      "           1       0.60      0.88      0.72      9279\n",
      "\n",
      "    accuracy                           0.99    610806\n",
      "   macro avg       0.80      0.94      0.86    610806\n",
      "weighted avg       0.99      0.99      0.99    610806\n",
      "\n"
     ]
    }
   ],
   "source": [
    "print(classification_report(Y_balanced2_np, y_train_pred_T2))\n",
    "print(classification_report(y_validation, y_validation_pred_T2))"
   ]
  },
  {
   "cell_type": "code",
   "execution_count": 119,
   "metadata": {},
   "outputs": [
    {
     "name": "stderr",
     "output_type": "stream",
     "text": [
      "c:\\Users\\utente\\AppData\\Local\\Programs\\Python\\Python312\\Lib\\site-packages\\sklearn\\base.py:1152: DataConversionWarning: A column-vector y was passed when a 1d array was expected. Please change the shape of y to (n_samples,), for example using ravel().\n",
      "  return fit_method(estimator, *args, **kwargs)\n"
     ]
    }
   ],
   "source": [
    "T3 = RandomForestClassifier()\n",
    "T3.fit(X_balanced3_np, Y_balanced3_np)\n",
    "y_train_pred_T3 = T3.predict(X_balanced3_np)\n",
    "y_validation_pred_T3 = T3.predict(X_validation)"
   ]
  },
  {
   "cell_type": "code",
   "execution_count": 120,
   "metadata": {},
   "outputs": [
    {
     "name": "stdout",
     "output_type": "stream",
     "text": [
      "              precision    recall  f1-score   support\n",
      "\n",
      "           0       1.00      1.00      1.00    158553\n",
      "           1       1.00      1.00      1.00     23200\n",
      "\n",
      "    accuracy                           1.00    181753\n",
      "   macro avg       1.00      1.00      1.00    181753\n",
      "weighted avg       1.00      1.00      1.00    181753\n",
      "\n",
      "              precision    recall  f1-score   support\n",
      "\n",
      "           0       1.00      0.99      1.00    601527\n",
      "           1       0.64      0.87      0.74      9279\n",
      "\n",
      "    accuracy                           0.99    610806\n",
      "   macro avg       0.82      0.93      0.87    610806\n",
      "weighted avg       0.99      0.99      0.99    610806\n",
      "\n"
     ]
    }
   ],
   "source": [
    "print(classification_report(Y_balanced3_np, y_train_pred_T3))\n",
    "print(classification_report(y_validation, y_validation_pred_T3))"
   ]
  },
  {
   "cell_type": "markdown",
   "metadata": {},
   "source": [
    "### <ins>msg from Nicolò: It takes to much time for me to run above 10%, maybe Marco can do better with his computer</ins>"
   ]
  },
  {
   "cell_type": "markdown",
   "metadata": {},
   "source": [
    "### <ins>Point 5.</ins>"
   ]
  },
  {
   "cell_type": "markdown",
   "metadata": {},
   "source": [
    "### <ins>Still to find best combinations.</ins>"
   ]
  },
  {
   "cell_type": "code",
   "execution_count": null,
   "metadata": {},
   "outputs": [],
   "source": [
    "# e.g., RF - parameters to be optimizaed:\n",
    "    # n_estimators: number of trees\n",
    "    # max_depth: the maximum depth of trees\n",
    "\n",
    "# iterate over all possible combinations\n",
    "for n_estimators in range(10, 50, 100):\n",
    "    for max_depth in [2, 3, 4, 5, None]:\n",
    "        # initialize and fit a model per pair of parameters\n",
    "        rf_tmp = RandomForestClassifier(n_estimators=n_estimators, max_depth=max_depth, random_state=12)\n",
    "        rf_tmp.fit(X_balanced3_np, Y_balanced3_np)\n",
    "        # here we only refer to accuracy for simplicity\n",
    "        acc_train = accuracy_score(Y_balanced3_np, rf_tmp.predict(X_balanced3_np))\n",
    "        acc_val = accuracy_score(y_validation, rf_tmp.predict(X_validation))\n",
    "        print(f'number_trees: {n_estimators}, max depth: {max_depth}, accuracy: train - {acc_train} | val - {acc_val}')"
   ]
  }
 ],
 "metadata": {
  "kernelspec": {
   "display_name": "Python 3",
   "language": "python",
   "name": "python3"
  },
  "language_info": {
   "codemirror_mode": {
    "name": "ipython",
    "version": 3
   },
   "file_extension": ".py",
   "mimetype": "text/x-python",
   "name": "python",
   "nbconvert_exporter": "python",
   "pygments_lexer": "ipython3",
   "version": "3.11.7"
  }
 },
 "nbformat": 4,
 "nbformat_minor": 2
}
