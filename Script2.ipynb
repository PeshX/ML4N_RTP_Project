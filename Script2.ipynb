{
 "cells": [
  {
   "cell_type": "code",
   "execution_count": 2,
   "metadata": {},
   "outputs": [],
   "source": [
    "%matplotlib inline\n",
    "\n",
    "import pandas as pd\n",
    "import seaborn as sns\n",
    "import numpy as np\n",
    "import matplotlib.pyplot as plt\n",
    "from sklearn.model_selection import train_test_split\n",
    "from sklearn.preprocessing import StandardScaler\n",
    "from sklearn.decomposition import PCA\n",
    "from sklearn.metrics import classification_report, confusion_matrix\n",
    "from sklearn.neighbors import KNeighborsClassifier\n",
    "from sklearn.linear_model import LogisticRegression\n",
    "from sklearn.ensemble import RandomForestClassifier\n",
    "from sklearn.naive_bayes import GaussianNB\n",
    "from sklearn.linear_model import LinearRegression\n",
    "from sklearn.metrics import mean_squared_error, mean_absolute_error\n",
    "from sklearn.tree import DecisionTreeRegressor"
   ]
  },
  {
   "cell_type": "code",
   "execution_count": 3,
   "metadata": {},
   "outputs": [],
   "source": [
    "import pickle\n",
    "\n",
    "with open('my_dataset.pickle', 'rb') as data:\n",
    "    df = pickle.load(data)"
   ]
  },
  {
   "cell_type": "code",
   "execution_count": 5,
   "metadata": {},
   "outputs": [],
   "source": [
    "with open('my_stat_feat.pickle', 'rb') as data_stat:\n",
    "    features = pickle.load(data_stat)"
   ]
  },
  {
   "cell_type": "markdown",
   "metadata": {},
   "source": [
    "### <ins>Point 1.</ins>"
   ]
  },
  {
   "cell_type": "markdown",
   "metadata": {},
   "source": [
    "### <ins>Should we take only stat feats or all of them?.</ins>"
   ]
  },
  {
   "cell_type": "code",
   "execution_count": 6,
   "metadata": {},
   "outputs": [],
   "source": [
    "X, X_test, y, y_test = train_test_split(\n",
    "    df[features].values, # X  come numpy array\n",
    "    df['label'].values, # y come numpy array\n",
    "    stratify = df['label'], # stratify the dataset based on class labels\n",
    "    train_size = 0.7, # percentage of training set\n",
    "    random_state = 15 #for random chose of samples\n",
    ")"
   ]
  },
  {
   "cell_type": "code",
   "execution_count": 7,
   "metadata": {},
   "outputs": [],
   "source": [
    "X_train, X_validation, y_train, y_validation = train_test_split(\n",
    "    df[features].values, # X  come numpy array\n",
    "    df['label'].values, # y come numpy array\n",
    "    stratify = df['label'], # stratify the dataset based on class labels\n",
    "    train_size = 0.7143, # percentage of training set\n",
    "    random_state = 15 #for random chose of samples\n",
    ")"
   ]
  },
  {
   "cell_type": "code",
   "execution_count": 8,
   "metadata": {},
   "outputs": [],
   "source": [
    "scaler = StandardScaler()\n",
    "scaler.fit(X_train)\n",
    "\n",
    "X_train = scaler.transform(X_train)\n",
    "X_validation = scaler.transform(X_validation)\n",
    "X_test = scaler.transform(X_test)"
   ]
  },
  {
   "cell_type": "markdown",
   "metadata": {},
   "source": [
    "### <ins>Point 2.</ins>"
   ]
  },
  {
   "cell_type": "code",
   "execution_count": 49,
   "metadata": {},
   "outputs": [],
   "source": [
    "import random\n",
    "\n",
    "X_train_df=pd.DataFrame(X_train)\n",
    "X_validation_df=pd.DataFrame(X_validation)\n",
    "X_test_df=pd.DataFrame(X_test)\n",
    "y_train_df=pd.DataFrame(y_train)\n",
    "y_test_df=pd.DataFrame(y_test)\n",
    "y_validation_df=pd.DataFrame(y_validation)\n",
    "\n",
    "y_lossy = y_train_df.groupby(0).get_group(1).index\n",
    "y_lossless = y_train_df.groupby(0).get_group(0).index\n",
    "\n",
    "num_of_el_to_pick = len(y_lossy)\n",
    "\n",
    "index_lossy = random.sample(sorted(set(y_lossy)),num_of_el_to_pick)\n",
    "index_lossless = random.sample(sorted(set(y_lossless)),num_of_el_to_pick)\n",
    "\n",
    "df_lossless = X_train_df.loc[index_lossless]\n",
    "df_lossy = X_train_df.loc[index_lossy]\n",
    "\n",
    "X_balanced = pd.concat([df_lossless, df_lossy])\n",
    "Y_balanced = pd.concat([y_train_df.loc[index_lossless], y_train_df.loc[index_lossy]])\n"
   ]
  },
  {
   "cell_type": "code",
   "execution_count": 54,
   "metadata": {},
   "outputs": [],
   "source": [
    "X_balanced = X_balanced.sort_index()\n",
    "Y_balanced = Y_balanced.sort_index()"
   ]
  },
  {
   "cell_type": "code",
   "execution_count": 55,
   "metadata": {},
   "outputs": [],
   "source": [
    "X_balanced_np = X_balanced.to_numpy()\n",
    "Y_balanced_np = Y_balanced.to_numpy()"
   ]
  },
  {
   "cell_type": "markdown",
   "metadata": {},
   "source": [
    "### <ins>Point 3.</ins>"
   ]
  },
  {
   "cell_type": "code",
   "execution_count": 51,
   "metadata": {},
   "outputs": [
    {
     "name": "stderr",
     "output_type": "stream",
     "text": [
      "c:\\Users\\utente\\AppData\\Local\\Programs\\Python\\Python312\\Lib\\site-packages\\sklearn\\neighbors\\_classification.py:233: DataConversionWarning: A column-vector y was passed when a 1d array was expected. Please change the shape of y to (n_samples,), for example using ravel().\n",
      "  return self._fit(X, y)\n"
     ]
    }
   ],
   "source": [
    "m1 = KNeighborsClassifier()\n",
    "m1.fit(X_balanced_np, Y_balanced_np)\n",
    "y_train_pred1 = m1.predict(X_balanced_np)\n",
    "y_validation_pred1 = m1.predict(X_validation)"
   ]
  },
  {
   "cell_type": "code",
   "execution_count": 52,
   "metadata": {},
   "outputs": [
    {
     "name": "stdout",
     "output_type": "stream",
     "text": [
      "              precision    recall  f1-score   support\n",
      "\n",
      "           0       0.94      0.95      0.95     23200\n",
      "           1       0.95      0.94      0.94     23200\n",
      "\n",
      "    accuracy                           0.94     46400\n",
      "   macro avg       0.94      0.94      0.94     46400\n",
      "weighted avg       0.94      0.94      0.94     46400\n",
      "\n"
     ]
    }
   ],
   "source": [
    "print(classification_report(Y_balanced_np, y_train_pred1))"
   ]
  },
  {
   "cell_type": "code",
   "execution_count": 53,
   "metadata": {},
   "outputs": [
    {
     "name": "stdout",
     "output_type": "stream",
     "text": [
      "              precision    recall  f1-score   support\n",
      "\n",
      "           0       1.00      0.94      0.97    601527\n",
      "           1       0.18      0.91      0.30      9279\n",
      "\n",
      "    accuracy                           0.93    610806\n",
      "   macro avg       0.59      0.92      0.63    610806\n",
      "weighted avg       0.99      0.93      0.96    610806\n",
      "\n"
     ]
    }
   ],
   "source": [
    "print(classification_report(y_validation, y_validation_pred1))"
   ]
  },
  {
   "cell_type": "code",
   "execution_count": 56,
   "metadata": {},
   "outputs": [],
   "source": [
    "m2 = DecisionTreeRegressor()\n",
    "m2.fit(X_balanced_np, Y_balanced_np)\n",
    "y_train_pred2 = m2.predict(X_balanced_np)\n",
    "y_validation_pred2 = m2.predict(X_validation)"
   ]
  },
  {
   "cell_type": "code",
   "execution_count": 58,
   "metadata": {},
   "outputs": [
    {
     "name": "stdout",
     "output_type": "stream",
     "text": [
      "              precision    recall  f1-score   support\n",
      "\n",
      "           0       1.00      1.00      1.00     23200\n",
      "           1       1.00      1.00      1.00     23200\n",
      "\n",
      "    accuracy                           1.00     46400\n",
      "   macro avg       1.00      1.00      1.00     46400\n",
      "weighted avg       1.00      1.00      1.00     46400\n",
      "\n"
     ]
    }
   ],
   "source": [
    "print(classification_report(Y_balanced_np, y_train_pred2))"
   ]
  },
  {
   "cell_type": "code",
   "execution_count": 57,
   "metadata": {},
   "outputs": [
    {
     "name": "stdout",
     "output_type": "stream",
     "text": [
      "              precision    recall  f1-score   support\n",
      "\n",
      "           0       1.00      0.93      0.96    601527\n",
      "           1       0.17      0.93      0.28      9279\n",
      "\n",
      "    accuracy                           0.93    610806\n",
      "   macro avg       0.58      0.93      0.62    610806\n",
      "weighted avg       0.99      0.93      0.95    610806\n",
      "\n"
     ]
    }
   ],
   "source": [
    "print(classification_report(y_validation, y_validation_pred2))"
   ]
  },
  {
   "cell_type": "code",
   "execution_count": 59,
   "metadata": {},
   "outputs": [
    {
     "name": "stderr",
     "output_type": "stream",
     "text": [
      "c:\\Users\\utente\\AppData\\Local\\Programs\\Python\\Python312\\Lib\\site-packages\\sklearn\\base.py:1152: DataConversionWarning: A column-vector y was passed when a 1d array was expected. Please change the shape of y to (n_samples,), for example using ravel().\n",
      "  return fit_method(estimator, *args, **kwargs)\n"
     ]
    }
   ],
   "source": [
    "m3 = RandomForestClassifier()\n",
    "m3.fit(X_balanced_np, Y_balanced_np)\n",
    "y_train_pred3 = m3.predict(X_balanced_np)\n",
    "y_validation_pred3 = m3.predict(X_validation)"
   ]
  },
  {
   "cell_type": "code",
   "execution_count": 60,
   "metadata": {},
   "outputs": [
    {
     "name": "stdout",
     "output_type": "stream",
     "text": [
      "              precision    recall  f1-score   support\n",
      "\n",
      "           0       1.00      1.00      1.00     23200\n",
      "           1       1.00      1.00      1.00     23200\n",
      "\n",
      "    accuracy                           1.00     46400\n",
      "   macro avg       1.00      1.00      1.00     46400\n",
      "weighted avg       1.00      1.00      1.00     46400\n",
      "\n"
     ]
    }
   ],
   "source": [
    "print(classification_report(Y_balanced_np, y_train_pred3))"
   ]
  },
  {
   "cell_type": "code",
   "execution_count": 61,
   "metadata": {},
   "outputs": [
    {
     "name": "stdout",
     "output_type": "stream",
     "text": [
      "              precision    recall  f1-score   support\n",
      "\n",
      "           0       1.00      0.95      0.97    601527\n",
      "           1       0.22      0.96      0.36      9279\n",
      "\n",
      "    accuracy                           0.95    610806\n",
      "   macro avg       0.61      0.95      0.67    610806\n",
      "weighted avg       0.99      0.95      0.96    610806\n",
      "\n"
     ]
    }
   ],
   "source": [
    "print(classification_report(y_validation, y_validation_pred3))"
   ]
  },
  {
   "cell_type": "code",
   "execution_count": 62,
   "metadata": {},
   "outputs": [
    {
     "data": {
      "image/png": "[encoded data removed]",
      "text/plain": [
       "<Figure size 800x800 with 2 Axes>"
      ]
     },
     "metadata": {},
     "output_type": "display_data"
    }
   ],
   "source": [
    "confusion_test = confusion_matrix(y_validation, y_validation_pred3)\n",
    "\n",
    "# visualize the confusion matrix\n",
    "plt.figure(figsize=(8,8))\n",
    "sns.heatmap(confusion_test, cmap='Blues', annot=True, cbar_kws={'label':'Occurrences'})\n",
    "plt.xlabel('Prediction')\n",
    "plt.ylabel('True')\n",
    "plt.title('Confusion matrix')\n",
    "plt.show()"
   ]
  },
  {
   "cell_type": "code",
   "execution_count": null,
   "metadata": {},
   "outputs": [],
   "source": [
    "gnb = GaussianNB()\n",
    "gnb.fit(X_balanced, Y_balanced)\n",
    "y_test_pred = gnb.predict(X_test)\n",
    "\n",
    "print(classification_report(y_test, y_test_pred))"
   ]
  }
 ],
 "metadata": {
  "kernelspec": {
   "display_name": "Python 3",
   "language": "python",
   "name": "python3"
  },
  "language_info": {
   "codemirror_mode": {
    "name": "ipython",
    "version": 3
   },
   "file_extension": ".py",
   "mimetype": "text/x-python",
   "name": "python",
   "nbconvert_exporter": "python",
   "pygments_lexer": "ipython3",
   "version": "3.12.0"
  }
 },
 "nbformat": 4,
 "nbformat_minor": 2
}
