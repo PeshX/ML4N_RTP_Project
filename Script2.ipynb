{
 "cells": [
  {
   "cell_type": "code",
   "execution_count": 2,
   "metadata": {},
   "outputs": [],
   "source": [
    "%matplotlib inline\n",
    "\n",
    "import pandas as pd\n",
    "import seaborn as sns\n",
    "import numpy as np\n",
    "import matplotlib.pyplot as plt\n",
    "from sklearn.model_selection import train_test_split\n",
    "from sklearn.preprocessing import StandardScaler\n",
    "from sklearn.decomposition import PCA\n",
    "from sklearn.metrics import classification_report, confusion_matrix\n",
    "from sklearn.neighbors import KNeighborsClassifier\n",
    "from sklearn.linear_model import LogisticRegression\n",
    "from sklearn.ensemble import RandomForestClassifier\n",
    "from sklearn.naive_bayes import GaussianNB\n",
    "from sklearn.linear_model import LinearRegression\n",
    "from sklearn.metrics import mean_squared_error, mean_absolute_error\n",
    "from sklearn.tree import DecisionTreeRegressor"
   ]
  },
  {
   "cell_type": "code",
   "execution_count": 3,
   "metadata": {},
   "outputs": [],
   "source": [
    "import pickle\n",
    "\n",
    "with open('my_dataset.pickle', 'rb') as data:\n",
    "    dataset = pickle.load(data)"
   ]
  },
  {
   "cell_type": "markdown",
   "metadata": {},
   "source": [
    "### <ins>Point 1.</ins>"
   ]
  },
  {
   "cell_type": "markdown",
   "metadata": {},
   "source": [
    "### <ins>Should we take only stat feats or all of them?.</ins>"
   ]
  },
  {
   "cell_type": "code",
   "execution_count": null,
   "metadata": {},
   "outputs": [],
   "source": [
    "X, X_test, y, y_test = train_test_split(\n",
    "    df[features].values, # X  come numpy array\n",
    "    df['label'].values, # y come numpy array\n",
    "    stratify = df['label'], # stratify the dataset based on class labels\n",
    "    train_size = 0.7, # percentage of training set\n",
    "    random_state = 15 #for random chose of samples\n",
    ")"
   ]
  },
  {
   "cell_type": "code",
   "execution_count": null,
   "metadata": {},
   "outputs": [],
   "source": [
    "X_train, X_validation, y_train, y_validation = train_test_split(\n",
    "    df[features].values, # X  come numpy array\n",
    "    df['label'].values, # y come numpy array\n",
    "    stratify = df['label'], # stratify the dataset based on class labels\n",
    "    train_size = 0.7143, # percentage of training set\n",
    "    random_state = 15 #for random chose of samples\n",
    ")"
   ]
  },
  {
   "cell_type": "code",
   "execution_count": null,
   "metadata": {},
   "outputs": [],
   "source": [
    "scaler = StandardScaler()\n",
    "scaler.fit(X_train)\n",
    "\n",
    "X_train = scaler.transform(X_train)\n",
    "X_validation = scaler.transform(X_validation)\n",
    "X_test = scaler.transform(X_test)"
   ]
  },
  {
   "cell_type": "markdown",
   "metadata": {},
   "source": [
    "### <ins>Point 2.</ins>"
   ]
  },
  {
   "cell_type": "code",
   "execution_count": null,
   "metadata": {},
   "outputs": [],
   "source": [
    "import random\n",
    "\n",
    "y_lossy = y_train[y_train==1].index\n",
    "y_lossless = y_train[y_train==0].index\n",
    "\n",
    "num_of_el_to_pick = len(y_lossy)\n",
    "\n",
    "index_lossy = random.sample(sorted(set(y_lossy)),num_of_el_to_pick)\n",
    "index_lossless = random.sample(sorted(set(y_lossless)),num_of_el_to_pick)\n",
    "\n",
    "df_lossless = X_train.loc[index_lossless]\n",
    "df_lossy = X_train.loc[index_lossy]\n",
    "\n",
    "X_balanced = pd.concat([df_lossless, df_lossy])\n",
    "Y_balanced = pd.concat([y_train.loc[index_lossless], y_train.loc[index_lossy]])\n",
    "\n",
    "\n",
    "gnb = GaussianNB()\n",
    "gnb.fit(X_balanced, Y_balanced)\n",
    "y_test_pred = gnb.predict(X_test)\n",
    "\n",
    "print(classification_report(y_test, y_test_pred))"
   ]
  },
  {
   "cell_type": "markdown",
   "metadata": {},
   "source": [
    "### <ins>Point 3.</ins>"
   ]
  },
  {
   "cell_type": "code",
   "execution_count": null,
   "metadata": {},
   "outputs": [],
   "source": [
    "m1 = KNeighborsClassifier(n_neighbors=3)\n",
    "m1.fit(X_train_np, y_train)\n",
    "y_test_pred1 = m1.predict(X_test_np)\n",
    "y_train_pred1 = m1.predict(X_train_np)"
   ]
  },
  {
   "cell_type": "code",
   "execution_count": null,
   "metadata": {},
   "outputs": [],
   "source": [
    "m1 = DecisionTreeRegressor(random_state=0)\n",
    "m1.fit(X_train_np, y_train)\n",
    "y_test_pred1 = m1.predict(X_test_np)\n",
    "y_train_pred1 = m1.predict(X_train_np)"
   ]
  },
  {
   "cell_type": "code",
   "execution_count": null,
   "metadata": {},
   "outputs": [],
   "source": [
    "m3 = RandomForestClassifier(n_estimators=30)\n",
    "m3.fit(X_train_np, y_train)\n",
    "y_test_pred3 = m3.predict(X_test_np)\n",
    "y_train_pred3 = m3.predict(X_train_np)"
   ]
  }
 ],
 "metadata": {
  "kernelspec": {
   "display_name": "Python 3",
   "language": "python",
   "name": "python3"
  },
  "language_info": {
   "codemirror_mode": {
    "name": "ipython",
    "version": 3
   },
   "file_extension": ".py",
   "mimetype": "text/x-python",
   "name": "python",
   "nbconvert_exporter": "python",
   "pygments_lexer": "ipython3",
   "version": "3.11.7"
  }
 },
 "nbformat": 4,
 "nbformat_minor": 2
}
